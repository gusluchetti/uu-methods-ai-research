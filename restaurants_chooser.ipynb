{
 "cells": [
  {
   "cell_type": "code",
   "execution_count": 1,
   "metadata": {},
   "outputs": [],
   "source": [
    "import pandas as pd\n",
    "import numpy as np\n",
    "import matplotlib.pyplot as plt\n",
    "import re"
   ]
  },
  {
   "cell_type": "code",
   "execution_count": 2,
   "metadata": {},
   "outputs": [],
   "source": [
    "restaurants = pd.read_csv(r'C:\\Users\\niels\\restaurant_info(1).csv')\n"
   ]
  },
  {
   "cell_type": "code",
   "execution_count": 3,
   "metadata": {},
   "outputs": [
    {
     "data": {
      "text/plain": [
       "True"
      ]
     },
     "execution_count": 3,
     "metadata": {},
     "output_type": "execute_result"
    }
   ],
   "source": [
    "type(restaurants['postcode'][20])\n",
    "pd.isna(restaurants['postcode'][20])"
   ]
  },
  {
   "cell_type": "code",
   "execution_count": 4,
   "metadata": {},
   "outputs": [
    {
     "name": "stdout",
     "output_type": "stream",
     "text": [
      "                restaurantname pricerange    area             food  \\\n",
      "0       saint johns chop house   moderate    west          british   \n",
      "1         restaurant alimentum   moderate   north  modern european   \n",
      "2      pizza hut cherry hinton   moderate   south          italian   \n",
      "3                 the gardenia   moderate    west         romanian   \n",
      "4                    loch fyne   moderate  centre          seafood   \n",
      "..                         ...        ...     ...              ...   \n",
      "104                    panahar  expensive  centre    mediterranean   \n",
      "105              ugly duckling  expensive  centre          catalan   \n",
      "106   pizza express fen ditton   moderate  centre         european   \n",
      "107  sesame restaurant and bar   moderate     NaN          turkish   \n",
      "108                  hk fusion  expensive  centre             thai   \n",
      "\n",
      "            phone                                               addr postcode  \n",
      "0    01223 353110                         21 - 24 northampton street    c.b 3  \n",
      "1    01223 413000                               152 - 154 hills road    c.b 2  \n",
      "2    01223 323737  g4 cambridge leisure park clifton way cherry h...    c.b 1  \n",
      "3    01223 356354                        2 rose crescent city centre    c.b 2  \n",
      "4    01223 362433              the little rose 37 trumpington street    c.b 2  \n",
      "..            ...                                                ...      ...  \n",
      "104           NaN                                                NaN      NaN  \n",
      "105           NaN                    12 st. johns street city centre      NaN  \n",
      "106           NaN                              jesus lane fen ditton      NaN  \n",
      "107           NaN                                                NaN      NaN  \n",
      "108           NaN                     21 burleigh street city centre    c.b 1  \n",
      "\n",
      "[109 rows x 7 columns]\n"
     ]
    }
   ],
   "source": [
    "print(restaurants)"
   ]
  },
  {
   "cell_type": "code",
   "execution_count": 213,
   "metadata": {},
   "outputs": [],
   "source": [
    "#example_preferences = ['moderate',\t'centre',\t'british']\n",
    "example_preferences = ['expensive', 'centre',\t'korean']\n",
    "remaining_restaurants = ''\n",
    "index_reset_count = 0\n",
    "#Search rows for pricerange, area, food.\n",
    "# return the row that matches\n",
    "# If multiple rows match, return at random, and store the other restaurants.\n",
    "#Everything, only phone, only postcode, none\n",
    "#restaurant,pricerange,area,food,phone number,addr, postcode\n",
    "\n",
    "\n",
    "# RUN this function when the users wants to see additional restaurant recommendations\n",
    "def additional_restaurants():\n",
    "\n",
    "    #df.reset_index(level=0)\n",
    "\n",
    "    drop_indices = np.random.choice(len(globals()['remaining_restaurants'].index))\n",
    "\n",
    "\n",
    "    globals()['remaining_restaurants'] = globals()['remaining_restaurants'].reset_index(drop=True)\n",
    "\n",
    "    globals()['remaining_restaurants'].drop(drop_indices)\n",
    "\n",
    "    globals()['index_reset_count'] += 1\n",
    "    if  (pd.isna(globals()['remaining_restaurants'].iloc[drop_indices][5])) and  (pd.isna(globals()['remaining_restaurants'].iloc[drop_indices][7])):\n",
    "\n",
    "        return \"We recommend the restaurant\"+\" \"+str(globals()['remaining_restaurants'].iloc[drop_indices][1])+ '. '+'It is a '+str(globals()['remaining_restaurants'].iloc[drop_indices][2])+' priced restaurant'+' that serves '+str(globals()['remaining_restaurants'].iloc[drop_indices][4]+ ' food. '+'It is located in the '+str(globals()['remaining_restaurants'].iloc[drop_indices][3])+' on '+str(globals()['remaining_restaurants'].iloc[drop_indices][6])+'.')\n",
    "\n",
    "    elif(pd.isna(globals()['remaining_restaurants'].iloc[drop_indices][5])):\n",
    "\n",
    "        return \"We recommend the restaurant\"+\" \"+str(globals()['remaining_restaurants'].iloc[drop_indices][1])+ '. '+'It is a '+str(globals()['remaining_restaurants'].iloc[drop_indices][2])+' priced restaurant'+' that serves '+str(globals()['remaining_restaurants'].iloc[drop_indices][4])+ ' food. '+'It is located in the '+str(globals()['remaining_restaurants'].iloc[drop_indices][3])+' on '+str(globals()['remaining_restaurants'].iloc[drop_indices][6])+' ('+str(globals()['remaining_restaurants'].iloc[drop_indices][7])+').'\n",
    "\n",
    "    elif(pd.isna(globals()['remaining_restaurants'].iloc[drop_indices][7])):\n",
    "\n",
    "        return \"We recommend the restaurant\"+\" \"+str(globals()['remaining_restaurants'].iloc[drop_indices][1])+ '. '+'It is a '+str(globals()['remaining_restaurants'].iloc[drop_indices][2])+' priced restaurant'+' that serves '+str(globals()['remaining_restaurants'].iloc[drop_indices][4])+ ' food. '+'It is located in the '+str(globals()['remaining_restaurants'].iloc[drop_indices][3])+' on '+str(globals()['remaining_restaurants'].iloc[drop_indices][6])+'. '+'The phonenumber of the restaurant is: '+str(globals()['remaining_restaurants'].iloc[drop_indices][5])+'.'\n",
    "\n",
    "    else:\n",
    "        return \"We recommend the restaurant\"+\" \"+str(globals()['remaining_restaurants'].iloc[drop_indices][1])+ '. '+'It is a '+str(globals()['remaining_restaurants'].iloc[drop_indices][2])+' priced restaurant'+' that serves '+str(globals()['remaining_restaurants'].iloc[drop_indices][4])+ ' food. '+'It is located in the '+str(globals()['remaining_restaurants'].iloc[drop_indices][3])+' on '+str(globals()['remaining_restaurants'].iloc[drop_indices][6])+' ('+str(globals()['remaining_restaurants'].iloc[drop_indices][7])+'). '+'The phonenumber of the restaurant is: '+str(globals()['remaining_restaurants'].iloc[drop_indices][5])+'.'\n",
    "\n",
    "\n",
    "\n",
    "\n",
    "\n",
    "def find_best_restaurant(df, preferences, remaining_restaurants):\n",
    "    globals()['index_reset_count'] = 0\n",
    "    preferences = list(map(str.lower,preferences))\n",
    "    if(len(preferences) == 3):\n",
    "        result = df.loc[(df[\"pricerange\"] == preferences[0]) & (df[\"area\"] == preferences[1]) & (df[\"food\"] == preferences[2])]\n",
    "        result = result.reset_index()\n",
    "    else:\n",
    "        return 'Sorry, there is no restaurant that conforms to you requirements.'\n",
    "    if(result.shape[0] > 1):\n",
    "\n",
    "        # 5,7\n",
    "        #drop_indices = np.random.choice(result.index, 1, replace=False)\n",
    "        drop_indices = np.random.choice(len(result.index))\n",
    "        print(pd.isna(result.iloc[drop_indices][7]))\n",
    "        print(pd.isna(result.iloc[drop_indices][5]))\n",
    "        print(result.iloc[drop_indices])\n",
    "        globals()['remaining_restaurants'] = result.drop(drop_indices)\n",
    "        if  (pd.isna(result.iloc[drop_indices][5])) and  (pd.isna(result.iloc[drop_indices][7])):\n",
    "            \n",
    "            return \"We recommend the restaurant\"+\" \"+str(result.iloc[drop_indices][1])+ '. '+'It is a '+str(result.iloc[drop_indices][2])+' priced restaurant'+' that serves '+str(result.iloc[drop_indices][4])+ ' food. '+'It is located in the '+str(result.iloc[drop_indices][3])+' on '+str(result.iloc[drop_indices][6])+'.'\n",
    "\n",
    "        elif(pd.isna(result.iloc[drop_indices][5])):\n",
    "            \n",
    "            return \"We recommend the restaurant\"+\" \"+str(result.iloc[drop_indices][1])+ '. '+'It is a '+str(result.iloc[drop_indices][2])+' priced restaurant'+' that serves '+str(result.iloc[drop_indices][4])+ ' food. '+'It is located in the '+str(result.iloc[drop_indices][3])+' on '+str(result.iloc[drop_indices][6])+' ('+str(result.iloc[drop_indices][7])+').'\n",
    "                \n",
    "        elif(pd.isna(result.iloc[drop_indices][7])):\n",
    "            \n",
    "            return \"We recommend the restaurant\"+\" \"+str(result.iloc[drop_indices][1])+ '. '+'It is a '+str(result.iloc[drop_indices][2])+' priced restaurant'+' that serves '+str(result.iloc[drop_indices][4])+ ' food. '+'It is located in the '+str(result.iloc[drop_indices][3])+' on '+str(result.iloc[drop_indices][6])+'. '+'The phonenumber of the restaurant is: '+str(result.iloc[drop_indices][5])+'.'\n",
    "\n",
    "        else:\n",
    "            return \"We recommend the restaurant\"+\" \"+str(result.iloc[drop_indices][1])+ '. '+'It is a '+str(result.iloc[drop_indices][2])+' priced restaurant'+' that serves '+str(result.iloc[drop_indices][4])+ ' food. '+'It is located in the '+str(result.iloc[drop_indices][3])+' on '+str(result.iloc[drop_indices][6])+' ('+str(result.iloc[drop_indices][7])+'). '+'The phonenumber of the restaurant is: '+str(result.iloc[drop_indices][5])+'.'\n",
    "\n",
    "        #df_subset = result.drop(drop_indices)\n",
    "        #remove_row = np.random.seed(result.shape[0])\n",
    "    \n",
    "\n",
    "    if result.empty:\n",
    "        return 'Sorry, there is no restaurant that conforms to you requirements.'\n",
    "    elif result['phone'].isnull().values.any() and result['postcode'].isnull().values.any():\n",
    "        \n",
    "        return \"We recommend the restaurant\"+\" \"+str(result.iloc[0][1])+ '. '+'It is a '+str(result.iloc[0][2])+' priced restaurant'+' that serves '+str(result.iloc[0][4])+ ' food. '+'It is located in the '+str(result.iloc[0][3])+' on '+str(result.iloc[0][6])+'.'\n",
    "\n",
    "    elif result['phone'].isnull().values.any():\n",
    "        \n",
    "        return \"We recommend the restaurant\"+\" \"+str(result.iloc[0][1])+ '. '+'It is a '+str(result.iloc[0][2])+' priced restaurant'+' that serves '+str(result.iloc[0][4])+ ' food. '+'It is located in the '+str(result.iloc[0][3])+' on '+str(result.iloc[0][6])+' ('+str(result.iloc[0][7])+').'\n",
    "\n",
    "    elif result['postcode'].isnull().values.any():\n",
    "        \n",
    "        return \"We recommend the restaurant\"+\" \"+str(result.iloc[0][1])+ '. '+'It is a '+str(result.iloc[0][2])+' priced restaurant'+' that serves '+str(result.iloc[0][4])+ ' food. '+'It is located in the '+str(result.iloc[0][3])+' on '+str(result.iloc[0][6])+'. '+'The phonenumber of the restaurant is: '+str(result.iloc[0][5])+'.'\n",
    "\n",
    "    else:\n",
    "        return \"We recommend the restaurant\"+\" \"+str(result.iloc[0][1])+ '. '+'It is a '+str(result.iloc[0][2])+' priced restaurant'+' that serves '+str(result.iloc[0][4])+ ' food. '+'It is located in the '+str(result.iloc[0][3])+' on '+str(result.iloc[0][6])+' ('+str(result.iloc[0][7])+'). '+'The phonenumber of the restaurant is: '+str(result.iloc[0][5])+'.'\n",
    "\n",
    "\n",
    "    \n",
    "    "
   ]
  },
  {
   "cell_type": "code",
   "execution_count": 214,
   "metadata": {},
   "outputs": [
    {
     "name": "stdout",
     "output_type": "stream",
     "text": [
      "True\n",
      "False\n",
      "index                                             20\n",
      "restaurantname    stazione restaurant and coffee bar\n",
      "pricerange                                 expensive\n",
      "area                                          centre\n",
      "food                                          korean\n",
      "phone                                   01223 352607\n",
      "addr                         market hill city centre\n",
      "postcode                                         NaN\n",
      "Name: 0, dtype: object\n"
     ]
    },
    {
     "data": {
      "text/plain": [
       "'We recommend the restaurant stazione restaurant and coffee bar. It is a expensive priced restaurant that serves korean food. It is located in the centre on market hill city centre. The phonenumber of the restaurant is: 01223 352607.'"
      ]
     },
     "execution_count": 214,
     "metadata": {},
     "output_type": "execute_result"
    }
   ],
   "source": [
    "find_best_restaurant(restaurants, example_preferences,\"\")\n"
   ]
  },
  {
   "cell_type": "code",
   "execution_count": 212,
   "metadata": {},
   "outputs": [
    {
     "data": {
      "text/plain": [
       "'We recommend the restaurant stazione restaurant and coffee bar. It is a expensive priced restaurant that serves korean food. It is located in the centre on market hill city centre. The phonenumber of the restaurant is: 01223 352607.'"
      ]
     },
     "execution_count": 212,
     "metadata": {},
     "output_type": "execute_result"
    }
   ],
   "source": [
    "additional_restaurants()"
   ]
  },
  {
   "cell_type": "raw",
   "metadata": {},
   "source": [
    "If there is no restaurant that conforms to the requirements then the system should inform the user that there is no restaurant that conforms to the requirements of the user. If there are multiple possible restaurants then the system should select one of these at random and store the remaining matches in case the user asks for an alternative suggestion using the same preferences. Take into account that the input is converted to lower case when implementing the lookup function.\n",
    "\n",
    "\n",
    "- no restaurant case\n",
    "- edge cases\n",
    "- multiple restaurants case\n",
    "\n",
    "We recommend the restaurant restaurantname, it is an pricerange restaurant that serves food food. It is located in the area area on addr postcode. The phonenumber of the restaurant is: phone."
   ]
  },
  {
   "cell_type": "code",
   "execution_count": null,
   "metadata": {},
   "outputs": [],
   "source": []
  }
 ],
 "metadata": {
  "kernelspec": {
   "display_name": "Python 3 (ipykernel)",
   "language": "python",
   "name": "python3"
  },
  "language_info": {
   "codemirror_mode": {
    "name": "ipython",
    "version": 3
   },
   "file_extension": ".py",
   "mimetype": "text/x-python",
   "name": "python",
   "nbconvert_exporter": "python",
   "pygments_lexer": "ipython3",
   "version": "3.9.13"
  },
  "toc": {
   "base_numbering": 1,
   "nav_menu": {},
   "number_sections": true,
   "sideBar": true,
   "skip_h1_title": false,
   "title_cell": "Table of Contents",
   "title_sidebar": "Contents",
   "toc_cell": false,
   "toc_position": {},
   "toc_section_display": true,
   "toc_window_display": false
  },
  "varInspector": {
   "cols": {
    "lenName": 16,
    "lenType": 16,
    "lenVar": 40
   },
   "kernels_config": {
    "python": {
     "delete_cmd_postfix": "",
     "delete_cmd_prefix": "del ",
     "library": "var_list.py",
     "varRefreshCmd": "print(var_dic_list())"
    },
    "r": {
     "delete_cmd_postfix": ") ",
     "delete_cmd_prefix": "rm(",
     "library": "var_list.r",
     "varRefreshCmd": "cat(var_dic_list()) "
    }
   },
   "types_to_exclude": [
    "module",
    "function",
    "builtin_function_or_method",
    "instance",
    "_Feature"
   ],
   "window_display": false
  }
 },
 "nbformat": 4,
 "nbformat_minor": 2
}
