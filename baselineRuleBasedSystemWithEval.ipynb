{
 "cells": [
  {
   "cell_type": "code",
   "execution_count": 27,
   "metadata": {},
   "outputs": [],
   "source": [
    "import pandas as pd\n",
    "import numpy as np\n",
    "from re import search\n",
    "import matplotlib.pyplot as plt\n",
    "import seaborn as sp\n",
    "import sklearn\n",
    "from sklearn import metrics"
   ]
  },
  {
   "cell_type": "code",
   "execution_count": 28,
   "metadata": {},
   "outputs": [],
   "source": [
    "with open(r'C:\\users\\niels\\Downloads\\dialog_acts.dat', 'r') as f:\n",
    "    data = f.readlines()\n",
    "    data = list(map(lambda x: [x[0:x.index(\" \")], x[x.index(\" \")+1:-1]], data))\n",
    "df = pd.DataFrame(np.array(data), columns = ['label', 'text'])\n",
    "df = df[df.label != 'null']\n",
    "df = df.reset_index()"
   ]
  },
  {
   "cell_type": "code",
   "execution_count": 29,
   "metadata": {},
   "outputs": [],
   "source": [
    "def plot_histogram(df):\n",
    "    plt.rcParams['figure.figsize'] = [8, 8]\n",
    "    plt.rcParams['font.size'] = 6\n",
    "    sp.histplot(df['label'])\n",
    "\n"
   ]
  },
  {
   "cell_type": "code",
   "execution_count": 30,
   "metadata": {},
   "outputs": [
    {
     "data": {
      "image/png": "[encoded data removed]",
      "text/plain": [
       "<Figure size 800x800 with 1 Axes>"
      ]
     },
     "metadata": {},
     "output_type": "display_data"
    }
   ],
   "source": [
    "plot_histogram(df)"
   ]
  },
  {
   "cell_type": "code",
   "execution_count": 31,
   "metadata": {},
   "outputs": [],
   "source": [
    "def df_keyword_matching2(dataframe):\n",
    "    \"\"\"\n",
    "    Rule-based prediction of dialog acts based on utterances.\n",
    "    Arguments:\n",
    "        dataframe: a pandas dataframe that contains a column named text with utterances.\n",
    "        \n",
    "    Returns:\n",
    "        Returns a list of predictions about the label (dialog act) of the utterances.\n",
    "    \"\"\"\n",
    "    predictions = []\n",
    "    for i in range(0,len(dataframe)):\n",
    "        predictions.append('inform')\n",
    "    return predictions"
   ]
  },
  {
   "cell_type": "code",
   "execution_count": 32,
   "metadata": {},
   "outputs": [],
   "source": [
    "\n",
    "def df_keyword_matching(dataframe):\n",
    "    \"\"\"\n",
    "    Rule-based prediction of dialog acts based on utterances.\n",
    "    Arguments:\n",
    "        dataframe: a pandas dataframe that contains a column named text with utterances.\n",
    "        \n",
    "    Returns:\n",
    "        Returns a list of predictions about the label (dialog act) of the utterances.\n",
    "    \"\"\"\n",
    "    predictions = []\n",
    "    for i in range(0,len(dataframe)):\n",
    "        if search(r'\\bhow about\\b|\\bwhat about\\b|\\banything else\\b|\\bare there\\b|\\bis there\\b|\\bwhat else\\b', df.loc[i,'text']):\n",
    "            predictions.append('reqalts')\n",
    "        elif search(r'\\byes\\b|\\byeah\\b|\\bcorrect\\b',df.loc[i,'text']):\n",
    "            predictions.append('affirm')\n",
    "        elif search(r'\\bthank you\\b', df.loc[i,'text']):\n",
    "            predictions.append('thankyou')\n",
    "        elif search(r'\\bgoodbye\\b|\\bbye\\b', df.loc[i,'text']):\n",
    "            predictions.append('bye')\n",
    "        elif search(r'\\bdoes it\\b|\\bis it\\b|\\bdo they\\b|\\bis that\\b|\\bis there\\b', df.loc[i,'text']):\n",
    "            predictions.append('confirm')\n",
    "        elif search(r'\\bwhat is\\b|\\bwhats\\b|\\bmay i\\b|\\bcould i\\b|\\bwhat\\b|\\bprice range\\b|\\bpost code\\b|\\btype of\\b|\\baddress\\b|\\bphone number\\b|\\bcan i\\b|\\bcould i\\b|\\bcould you\\b|\\bdo you\\b|\\bi want+.address\\b|\\bi want+.phone\\b|\\bi would\\b|\\bwhere is\\b', df.loc[i,'text']):\n",
    "            predictions.append('request')\n",
    "        elif search(r'\\bno\\b|\\bnot\\b', df.loc[i,'text']):\n",
    "            predictions.append('negate')\n",
    "        elif search(r'\\blooking for\\b|\\bdont care\\b|\\bdoesnt matter\\b|\\bexpensive\\b|\\bcheap\\b|\\bmoderate\\b|\\bi need\\b|\\bi want\\b|\\bfood\\b|\\bnorth\\b',df.loc[i,'text']):\n",
    "            predictions.append('inform')\n",
    "        elif search(r'\\bdont\\b', df.loc[i,'text']):\n",
    "            predictions.append('deny')\n",
    "        elif search(r'\\bhello\\b', df.loc[i,'text']):\n",
    "            predictions.append('hello')\n",
    "        elif search(r'\\brepeat\\b', df.loc[i,'text']):\n",
    "            predictions.append('repeat')\n",
    "        elif search(r'\\bmore\\b', df.loc[i,'text']):\n",
    "            predictions.append('reqmore')\n",
    "        elif search(r'\\bstart\\b', df.loc[i,'text']):\n",
    "            predictions.append('restart')\n",
    "        elif search(r'\\bokay\\b|\\bkay\\b',df.loc[i,'text']):\n",
    "            predictions.append('ack')\n",
    "        else:\n",
    "            predictions.append('inform')\n",
    "    return predictions"
   ]
  },
  {
   "cell_type": "code",
   "execution_count": 9,
   "metadata": {},
   "outputs": [],
   "source": [
    "def new_sentence(utterance):\n",
    "    \"\"\"\n",
    "    Rule-based prediction of a dialog act based on a phrase.\n",
    "    Arguments:\n",
    "        utterance: string\n",
    "        \n",
    "    Returns:\n",
    "        Returns the predicted dialog act.\n",
    "    \"\"\"\n",
    "    utterance = utterance.lower()\n",
    "    if search(r'\\bhow about\\b|\\bwhat about\\b|\\banything else\\b|\\bare there\\b|\\bis there\\b|\\bwhat else\\b', utterance):\n",
    "        return 'reqalts'\n",
    "    elif search(r'\\byes\\b|\\byeah\\b|\\bcorrect\\b',utterance):\n",
    "        return 'affirm'\n",
    "    elif search(r'\\bthank you\\b', utterance):\n",
    "        return 'thankyou'\n",
    "    elif search(r'\\bgoodbye\\b|\\bbye\\b', utterance):\n",
    "        return 'bye'\n",
    "    elif search(r'\\bdoes it\\b|\\bis it\\b|\\bdo they\\b|\\bis that\\b|\\bis there\\b', utterance):\n",
    "        return 'confirm'\n",
    "    elif search(r'\\bwhat is\\b|\\bwhats\\b|\\bmay i\\b|\\bcould i\\b|\\bwhat\\b|\\bprice range\\b|\\bpost code\\b|\\btype of\\b|\\baddress\\b|\\bphone number\\b|\\bcan i\\b|\\bcould i\\b|\\bcould you\\b|\\bdo you\\b|\\bi want+.address\\b|\\bi want+.phone\\b|\\bi would\\b|\\bwhere is\\b', utterance):\n",
    "        return 'request'\n",
    "    elif search(r'\\bno\\b|\\bnot\\b', utterance):\n",
    "        return 'negate'\n",
    "    elif search(r'\\blooking for\\b|\\bdont care\\b|\\bdoesnt matter\\b|\\bexpensive\\b|\\bcheap\\b|\\bmoderate\\b|\\bi need\\b|\\bi want\\b|\\bfood\\b|\\bnorth\\b',utterance):\n",
    "        return 'inform'\n",
    "    elif search(r'\\bdont\\b', utterance):\n",
    "        return 'deny'\n",
    "    elif search(r'\\bhello\\b|\\bhi\\b|\\bhey\\b', utterance):\n",
    "        return 'hello'\n",
    "    elif search(r'\\brepeat\\b', utterance):\n",
    "        return 'repeat'\n",
    "    elif search(r'\\bmore\\b', utterance):\n",
    "        return 'reqmore'\n",
    "    elif search(r'\\bstart\\b', utterance):\n",
    "        return 'restart'\n",
    "    elif search(r'\\bokay\\b|\\bkay\\b',utterance):\n",
    "        return 'ack'\n",
    "    else:\n",
    "        return 'inform'\n",
    "    "
   ]
  },
  {
   "cell_type": "code",
   "execution_count": 33,
   "metadata": {},
   "outputs": [
    {
     "name": "stdout",
     "output_type": "stream",
     "text": [
      "thankyou\n",
      "affirm\n",
      "affirm\n",
      "bye\n",
      "thankyou\n",
      "reqalts\n",
      "reqalts\n",
      "request\n",
      "request\n",
      "request\n"
     ]
    }
   ],
   "source": [
    "#test cases (FIRST CASE)\n",
    "print(new_sentence(\"Thank you good bye\")) #Actual label: thankyou\n",
    "print(new_sentence(\"yes good bye\")) #Actual label: affirm\n",
    "print(new_sentence(\"yes thank you for the recommendation good bye\")) #Actual label: affirm\n",
    "print(new_sentence(\"uh no thats it good bye\")) #Actual label: negate\n",
    "print(new_sentence(\"uh no thank you and good bye\")) ##Actual label: negate\n",
    "\n",
    "#test cases (SECOND CASE)\n",
    "\n",
    "print(new_sentence(\"what is there in the north\")) #Actual label: inform\n",
    "print(new_sentence(\"what is there anything else\")) #Actual label: reqalts\n",
    "print(new_sentence(\"what is the other restaurant with portuguese food\")) #Actual label: reqalts\n",
    "print(new_sentence(\"kay what is the addres\")) #Actual label: inform\n",
    "print(new_sentence(\"i dont care about the price range what is the address\")) #Actual label: inform"
   ]
  },
  {
   "cell_type": "code",
   "execution_count": 39,
   "metadata": {},
   "outputs": [],
   "source": [
    "    def plot_confusion_matrix(labels,predictions):\n",
    "        \"\"\"Plots the confusion matrix\n",
    "        Arguments:\n",
    "        labels: array-like of shape (n_samples,)\n",
    "        predictions: array-like of shape (n_samples,)\n",
    "        Returns\n",
    "        -------\n",
    "        plot\n",
    "            plots the confusion matrix\n",
    "        \"\"\"\n",
    "        plt.rcParams.update(plt.rcParamsDefault)\n",
    "\n",
    "        plt.rcParams['figure.figsize'] = [12, 12]\n",
    "        plt.rcParams['font.size'] = 8\n",
    "        sklearn.metrics.ConfusionMatrixDisplay.from_predictions(labels,predictions)\n",
    "\n",
    "        plt.show()"
   ]
  },
  {
   "cell_type": "code",
   "execution_count": 40,
   "metadata": {},
   "outputs": [],
   "source": [
    "predictions = (df_keyword_matching(df))"
   ]
  },
  {
   "cell_type": "code",
   "execution_count": 41,
   "metadata": {},
   "outputs": [],
   "source": [
    "def baselineAccuracy(predictions, df):\n",
    "    \"\"\"Calculates the accuracy\n",
    "        Arguments:\n",
    "        predictions: list\n",
    "        df: a pandas dataframe that contains a column named text with utterances.\n",
    "        Returns\n",
    "        -------\n",
    "    Returns:\n",
    "        Returns the accuracy\n",
    "    \"\"\"\n",
    "    count = 0\n",
    "    for i in range(0,len(predictions)):\n",
    "        \n",
    "        if(predictions[i].lower() == df.loc[i,'label'].lower()):\n",
    "            count += 1\n",
    "    return \"Accuracy: \"+str(round(count / len(predictions)*100,1))+\"%\"\n",
    "        "
   ]
  },
  {
   "cell_type": "code",
   "execution_count": 42,
   "metadata": {},
   "outputs": [
    {
     "data": {
      "text/plain": [
       "'Accuracy: 93.4%'"
      ]
     },
     "execution_count": 42,
     "metadata": {},
     "output_type": "execute_result"
    }
   ],
   "source": [
    "baselineAccuracy(predictions, df)"
   ]
  },
  {
   "cell_type": "code",
   "execution_count": 43,
   "metadata": {
    "scrolled": true
   },
   "outputs": [
    {
     "data": {
      "image/png": "[encoded data removed]",
      "text/plain": [
       "<Figure size 1200x1200 with 2 Axes>"
      ]
     },
     "metadata": {},
     "output_type": "display_data"
    }
   ],
   "source": [
    "plot_confusion_matrix(df['label'],predictions)"
   ]
  },
  {
   "cell_type": "code",
   "execution_count": 20,
   "metadata": {},
   "outputs": [],
   "source": [
    " def F1_score(labels, predictions):\n",
    "        \"\"\"Prints metrics\n",
    "        Arguments:\n",
    "        labels: array-like of shape (n_samples,)\n",
    "        predictions: array-like of shape (n_samples,)\n",
    "        \n",
    "        Prints different metrics related to the confusion matrix.\n",
    "        \"\"\"\n",
    "        edges_confusion_matrix = sklearn.metrics.confusion_matrix(labels,predictions)\n",
    "\n",
    "        FP = edges_confusion_matrix.sum(axis=0) - np.diag(edges_confusion_matrix)  \n",
    "        \n",
    "        FN = edges_confusion_matrix.sum(axis=1) - np.diag(edges_confusion_matrix)\n",
    "        \n",
    "        TP = np.diag(edges_confusion_matrix)\n",
    "        \n",
    "        TN = edges_confusion_matrix.sum() - (FP + FN + TP)\n",
    "        \n",
    "        \n",
    "        # Sensitivity, hit rate, recall, or true positive rate\n",
    "        TPR = TP/(TP+FN)\n",
    "\n",
    "        # Specificity or true negative rate\n",
    "        TNR = TN/(TN+FP)\n",
    "\n",
    "        # Precision or positive predictive value\n",
    "        PPV = TP/(TP+FP)\n",
    "\n",
    "\n",
    "\n",
    "        F1 = 2*((PPV*TPR)/(PPV+TPR))\n",
    "        F1 = F1[~np.isnan(F1)]\n",
    "        print('F1',F1)\n",
    "        print('Average F1',np.average(F1))"
   ]
  },
  {
   "cell_type": "code",
   "execution_count": 21,
   "metadata": {},
   "outputs": [
    {
     "name": "stdout",
     "output_type": "stream",
     "text": [
      "F1 [0.59678698]\n",
      "Average F1 0.5967869834650062\n"
     ]
    },
    {
     "name": "stderr",
     "output_type": "stream",
     "text": [
      "C:\\Users\\niels\\odse\\lib\\site-packages\\ipykernel_launcher.py:27: RuntimeWarning: invalid value encountered in true_divide\n"
     ]
    }
   ],
   "source": [
    "F1_score(df['label'],predictions)"
   ]
  },
  {
   "cell_type": "code",
   "execution_count": 26,
   "metadata": {},
   "outputs": [
    {
     "data": {
      "text/plain": [
       "0.04262764167607187"
      ]
     },
     "execution_count": 26,
     "metadata": {},
     "output_type": "execute_result"
    }
   ],
   "source": [
    "sklearn.metrics.f1_score(df['label'],predictions,average='macro')"
   ]
  },
  {
   "cell_type": "code",
   "execution_count": null,
   "metadata": {},
   "outputs": [],
   "source": []
  }
 ],
 "metadata": {
  "kernelspec": {
   "display_name": "odse",
   "language": "python",
   "name": "odse"
  },
  "language_info": {
   "codemirror_mode": {
    "name": "ipython",
    "version": 3
   },
   "file_extension": ".py",
   "mimetype": "text/x-python",
   "name": "python",
   "nbconvert_exporter": "python",
   "pygments_lexer": "ipython3",
   "version": "3.7.3"
  },
  "toc": {
   "base_numbering": 1,
   "nav_menu": {},
   "number_sections": true,
   "sideBar": true,
   "skip_h1_title": false,
   "title_cell": "Table of Contents",
   "title_sidebar": "Contents",
   "toc_cell": false,
   "toc_position": {},
   "toc_section_display": true,
   "toc_window_display": false
  },
  "varInspector": {
   "cols": {
    "lenName": 16,
    "lenType": 16,
    "lenVar": 40
   },
   "kernels_config": {
    "python": {
     "delete_cmd_postfix": "",
     "delete_cmd_prefix": "del ",
     "library": "var_list.py",
     "varRefreshCmd": "print(var_dic_list())"
    },
    "r": {
     "delete_cmd_postfix": ") ",
     "delete_cmd_prefix": "rm(",
     "library": "var_list.r",
     "varRefreshCmd": "cat(var_dic_list()) "
    }
   },
   "types_to_exclude": [
    "module",
    "function",
    "builtin_function_or_method",
    "instance",
    "_Feature"
   ],
   "window_display": false
  }
 },
 "nbformat": 4,
 "nbformat_minor": 2
}
