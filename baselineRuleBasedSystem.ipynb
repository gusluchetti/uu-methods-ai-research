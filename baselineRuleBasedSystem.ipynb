{
 "cells": [
  {
   "cell_type": "code",
   "execution_count": 285,
   "metadata": {},
   "outputs": [],
   "source": [
    "import pandas as pd\n",
    "import numpy as np\n",
    "from re import search\n",
    "import matplotlib.pyplot as plt\n",
    "import sklearn.metrics"
   ]
  },
  {
   "cell_type": "code",
   "execution_count": 270,
   "metadata": {},
   "outputs": [],
   "source": [
    "with open('dialog_acts.dat', 'r') as f:\n",
    "    data = f.readlines()\n",
    "    data = list(map(lambda x: [x[0:x.index(\" \")], x[x.index(\" \")+1:-1]], data))\n",
    "df = pd.DataFrame(np.array(data), columns = ['label', 'text'])\n",
    "df = df[df.label != 'null']\n",
    "df = df.reset_index()"
   ]
  },
  {
   "cell_type": "code",
   "execution_count": 286,
   "metadata": {},
   "outputs": [],
   "source": [
    "\n",
    "def BaselineRuleBased(dataframe):\n",
    "    \"\"\"\n",
    "    Rule-based prediction of dialog acts based on utterances.\n",
    "    Arguments:\n",
    "        dataframe: a pandas dataframe that contains a column named text with utterances.\n",
    "        \n",
    "    Returns:\n",
    "        Returns a list of predictions about the label (dialog act) of the utterances.\n",
    "    \"\"\"\n",
    "    predictions = []\n",
    "    for i in range(0,len(dataframe)):\n",
    "        if search(r'\\bhow about\\b|\\bwhat about\\b|\\banything else\\b|\\bare there\\b|\\bis there\\b|\\bwhat else\\b', df.loc[i,'text']):\n",
    "            predictions.append('reqalts')\n",
    "        elif search(r'\\byes\\b|\\byeah\\b|\\bcorrect\\b',df.loc[i,'text']):\n",
    "            predictions.append('affirm')\n",
    "        elif search(r'\\bthank you\\b', df.loc[i,'text']):\n",
    "            predictions.append('thankyou')\n",
    "        elif search(r'\\bgoodbye\\b|\\bbye\\b', df.loc[i,'text']):\n",
    "            predictions.append('bye')\n",
    "        elif search(r'\\bdoes it\\b|\\bis it\\b|\\bdo they\\b|\\bis that\\b|\\bis there\\b', df.loc[i,'text']):\n",
    "            predictions.append('confirm')\n",
    "        elif search(r'\\bwhat is\\b|\\bwhats\\b|\\bmay i\\b|\\bcould i\\b|\\bwhat\\b|\\bprice range\\b|\\bpost code\\b|\\btype of\\b|\\baddress\\b|\\bphone number\\b|\\bcan i\\b|\\bcould i\\b|\\bcould you\\b|\\bdo you\\b|\\bi want+.address\\b|\\bi want+.phone\\b|\\bi would\\b|\\bwhere is\\b', df.loc[i,'text']):\n",
    "            predictions.append('request')\n",
    "        elif search(r'\\bno\\b|\\bnot\\b', df.loc[i,'text']):\n",
    "            predictions.append('negate')\n",
    "        elif search(r'\\blooking for\\b|\\bdont care\\b|\\bdoesnt matter\\b|\\bexpensive\\b|\\bcheap\\b|\\bmoderate\\b|\\bi need\\b|\\bi want\\b|\\bfood\\b|\\bnorth\\b',df.loc[i,'text']):\n",
    "            predictions.append('inform')\n",
    "        elif search(r'\\bdont\\b', df.loc[i,'text']):\n",
    "            predictions.append('deny')\n",
    "        elif search(r'\\bhello\\b', df.loc[i,'text']):\n",
    "            predictions.append('hello')\n",
    "        elif search(r'\\brepeat\\b', df.loc[i,'text']):\n",
    "            predictions.append('repeat')\n",
    "        elif search(r'\\bmore\\b', df.loc[i,'text']):\n",
    "            predictions.append('reqmore')\n",
    "        elif search(r'\\bstart\\b', df.loc[i,'text']):\n",
    "            predictions.append('restart')\n",
    "        elif search(r'\\bokay\\b|\\bkay\\b',df.loc[i,'text']):\n",
    "            predictions.append('ack')\n",
    "        else:\n",
    "            predictions.append('inform')\n",
    "    return predictions"
   ]
  },
  {
   "cell_type": "code",
   "execution_count": 287,
   "metadata": {},
   "outputs": [],
   "source": [
    "def new_sentence(utterance):\n",
    "    \"\"\"\n",
    "    Rule-based prediction of a dialog act based on a phrase.\n",
    "    Arguments:\n",
    "        utterance: string\n",
    "        \n",
    "    Returns:\n",
    "        Returns the predicted dialog act.\n",
    "    \"\"\"\n",
    "    utterance = utterance.lower()\n",
    "    if search(r'\\bhow about\\b|\\bwhat about\\b|\\banything else\\b|\\bare there\\b|\\bis there\\b|\\bwhat else\\b', utterance):\n",
    "        return 'reqalts'\n",
    "    elif search(r'\\byes\\b|\\byeah\\b|\\bcorrect\\b',utterance):\n",
    "        return 'affirm'\n",
    "    elif search(r'\\bthank you\\b', utterance):\n",
    "        return 'thankyou'\n",
    "    elif search(r'\\bgoodbye\\b|\\bbye\\b', utterance):\n",
    "        return 'bye'\n",
    "    elif search(r'\\bdoes it\\b|\\bis it\\b|\\bdo they\\b|\\bis that\\b|\\bis there\\b', utterance):\n",
    "        return 'confirm'\n",
    "    elif search(r'\\bwhat is\\b|\\bwhats\\b|\\bmay i\\b|\\bcould i\\b|\\bwhat\\b|\\bprice range\\b|\\bpost code\\b|\\btype of\\b|\\baddress\\b|\\bphone number\\b|\\bcan i\\b|\\bcould i\\b|\\bcould you\\b|\\bdo you\\b|\\bi want+.address\\b|\\bi want+.phone\\b|\\bi would\\b|\\bwhere is\\b', utterance):\n",
    "        return 'request'\n",
    "    elif search(r'\\bno\\b|\\bnot\\b', utterance):\n",
    "        return 'negate'\n",
    "    elif search(r'\\blooking for\\b|\\bdont care\\b|\\bdoesnt matter\\b|\\bexpensive\\b|\\bcheap\\b|\\bmoderate\\b|\\bi need\\b|\\bi want\\b|\\bfood\\b|\\bnorth\\b',utterance):\n",
    "        return 'inform'\n",
    "    elif search(r'\\bdont\\b', utterance):\n",
    "        return 'deny'\n",
    "    elif search(r'\\bhello\\b|\\bhi\\b|\\bhey\\b', utterance):\n",
    "        return 'hello'\n",
    "    elif search(r'\\brepeat\\b', utterance):\n",
    "        return 'repeat'\n",
    "    elif search(r'\\bmore\\b', utterance):\n",
    "        return 'reqmore'\n",
    "    elif search(r'\\bstart\\b', utterance):\n",
    "        return 'restart'\n",
    "    elif search(r'\\bokay\\b|\\bkay\\b',utterance):\n",
    "        return 'ack'\n",
    "    else:\n",
    "        return 'inform'\n",
    "    "
   ]
  },
  {
   "cell_type": "code",
   "execution_count": 288,
   "metadata": {},
   "outputs": [],
   "source": [
    "    def plot_confusion_matrix(labels,predictions):\n",
    "        \"\"\"Plots the confusion matrix\n",
    "        Arguments:\n",
    "        labels: array-like of shape (n_samples,)\n",
    "        predictions: array-like of shape (n_samples,)\n",
    "        Returns\n",
    "        -------\n",
    "        plot\n",
    "            plots the confusion matrix\n",
    "        \"\"\"\n",
    "        plt.rcParams.update(plt.rcParamsDefault)\n",
    "\n",
    "        plt.rcParams['figure.figsize'] = [10, 10]\n",
    "        plt.rcParams['font.size'] = 8\n",
    "        sklearn.metrics.ConfusionMatrixDisplay.from_predictions(labels,predictions)\n",
    "\n",
    "        plt.show()"
   ]
  },
  {
   "cell_type": "code",
   "execution_count": 289,
   "metadata": {},
   "outputs": [],
   "source": [
    "predictions = (rules(df))"
   ]
  },
  {
   "cell_type": "code",
   "execution_count": 290,
   "metadata": {},
   "outputs": [],
   "source": [
    "def baselineAccuracy(predictions, df):\n",
    "    \"\"\"Calculates the accuracy\n",
    "        Arguments:\n",
    "        predictions: list\n",
    "        df: a pandas dataframe that contains a column named text with utterances.\n",
    "        Returns\n",
    "        -------\n",
    "    Returns:\n",
    "        Returns the accuracy\n",
    "    \"\"\"\n",
    "    count = 0\n",
    "    for i in range(0,len(predictions)):\n",
    "        \n",
    "        if(predictions[i].lower() == df.loc[i,'label'].lower()):\n",
    "            count += 1\n",
    "    return \"Accuracy: \"+str(round(count / len(predictions)*100,1))+\"%\"\n",
    "        "
   ]
  },
  {
   "cell_type": "code",
   "execution_count": 291,
   "metadata": {},
   "outputs": [
    {
     "data": {
      "text/plain": [
       "'Accuracy: 93.4%'"
      ]
     },
     "execution_count": 291,
     "metadata": {},
     "output_type": "execute_result"
    }
   ],
   "source": [
    "baselineAccuracy(predictions, df)"
   ]
  },
  {
   "cell_type": "code",
   "execution_count": 292,
   "metadata": {
    "scrolled": true
   },
   "outputs": [
    {
     "data": {
      "image/png": "[encoded data removed]",
      "text/plain": [
       "<Figure size 1000x1000 with 2 Axes>"
      ]
     },
     "metadata": {},
     "output_type": "display_data"
    }
   ],
   "source": [
    "plot_confusion_matrix(df['label'],predictions)"
   ]
  },
  {
   "cell_type": "code",
   "execution_count": 293,
   "metadata": {},
   "outputs": [],
   "source": [
    " def metrics_overview(labels, predictions):\n",
    "        \"\"\"Prints metrics\n",
    "        Arguments:\n",
    "        labels: array-like of shape (n_samples,)\n",
    "        predictions: array-like of shape (n_samples,)\n",
    "        \n",
    "        Prints different metrics related to the confusion matrix.\n",
    "        \"\"\"\n",
    "        edges_confusion_matrix = sklearn.metrics.confusion_matrix(labels,predictions)\n",
    "\n",
    "        FP = edges_confusion_matrix.sum(axis=0) - np.diag(edges_confusion_matrix)  \n",
    "        \n",
    "        FN = edges_confusion_matrix.sum(axis=1) - np.diag(edges_confusion_matrix)\n",
    "        \n",
    "        TP = np.diag(edges_confusion_matrix)\n",
    "        \n",
    "        TN = edges_confusion_matrix.sum() - (FP + FN + TP)\n",
    "        \n",
    "        \n",
    "        # Sensitivity, hit rate, recall, or true positive rate\n",
    "        TPR = TP/(TP+FN)\n",
    "        print('TPR',TPR)\n",
    "        print('Average TPR',np.average(TPR))\n",
    "        print('_______________________________')\n",
    "        # Specificity or true negative rate\n",
    "        TNR = TN/(TN+FP)\n",
    "        print('TNR',TNR)\n",
    "        print('Average TNR',np.average(TNR))\n",
    "        print('_______________________________')\n",
    "\n",
    "        # Precision or positive predictive value\n",
    "        PPV = TP/(TP+FP)\n",
    "        print('PPV',PPV)\n",
    "        print('Average PPV',np.average(PPV))\n",
    "        print('_______________________________')\n",
    "\n",
    "        # Negative predictive value\n",
    "        NPV = TN/(TN+FN)\n",
    "        print('NPV',NPV)\n",
    "        print('Average NPV',np.average(NPV))\n",
    "        print('_______________________________')\n",
    "\n",
    "        # Fall out or false positive rate\n",
    "        FPR = FP/(FP+TN)\n",
    "        print('FPR',FPR)\n",
    "        print('Average FPR',np.average(FPR))\n",
    "        print('_______________________________')\n",
    "\n",
    "        # False negative rate\n",
    "        FNR = FN/(TP+FN)\n",
    "        print('FNR',FNR)\n",
    "        print('Average FNR',np.average(FNR))\n",
    "        print('_______________________________')\n",
    "\n",
    "        # False discovery rate\n",
    "        FDR = FP/(TP+FP)\n",
    "        print('FDR',FDR)\n",
    "        print('Average FDR',np.average(FDR))\n",
    "        print('_______________________________')\n",
    "\n",
    "        # Overall accuracy\n",
    "        ACC = (TP+TN)/(TP+FP+FN+TN)\n",
    "        print('ACC',ACC)\n",
    "        print('Average ACC',np.average(ACC))\n",
    "        print('_______________________________')\n",
    "\n",
    "        F1 = 2*((PPV*TPR)/(PPV+TPR))\n",
    "        F1 = F1[~np.isnan(F1)]\n",
    "        print('F1',F1)\n",
    "        print('Average F1',np.average(F1))\n",
    "        print('_______________________________')\n",
    "        print((FP+FN)/(TP+FP+FN+TN))"
   ]
  },
  {
   "cell_type": "code",
   "execution_count": 294,
   "metadata": {},
   "outputs": [
    {
     "name": "stdout",
     "output_type": "stream",
     "text": [
      "TPR [0.60714286 0.87197232 0.80827068 0.86627907 0.18518519 0.38709677\n",
      " 0.94124016 0.94252874 0.51515152 0.95191757 1.         0.91792424\n",
      " 0.85714286 0.99693157]\n",
      "Average TPR 0.7749131093978147\n",
      "_______________________________\n",
      "TNR [0.99941327 0.99991202 0.99978834 0.98912173 0.99932948 1.\n",
      " 0.96226965 0.99782553 1.         0.99159967 0.99991626 0.97378557\n",
      " 1.         0.99655841]\n",
      "Average TNR 0.9935371381314229\n",
      "_______________________________\n",
      "PPV [0.5483871  0.9980198  0.97727273 0.36609337 0.23809524 1.\n",
      " 0.94861621 0.88937093 1.         0.89940508 0.71428571 0.92893876\n",
      " 1.         0.97861446]\n",
      "Average PPV 0.8205070988610307\n",
      "_______________________________\n",
      "NPV [0.99953894 0.99353119 0.99784528 0.99902053 0.99907826 0.99761036\n",
      " 0.95676419 0.9989329  0.99932976 0.99618875 1.         0.96949405\n",
      " 0.99991624 0.99951383]\n",
      "Average NPV 0.9933403056727056\n",
      "_______________________________\n",
      "FPR [5.86731487e-04 8.79778296e-05 2.11658130e-04 1.08782730e-02\n",
      " 6.70522169e-04 0.00000000e+00 3.77303518e-02 2.17446917e-03\n",
      " 0.00000000e+00 8.40032517e-03 8.37380673e-05 2.62144294e-02\n",
      " 0.00000000e+00 3.44158992e-03]\n",
      "Average FPR 0.0064628618685771905\n",
      "_______________________________\n",
      "FNR [0.39285714 0.12802768 0.19172932 0.13372093 0.81481481 0.61290323\n",
      " 0.05875984 0.05747126 0.48484848 0.04808243 0.         0.08207576\n",
      " 0.14285714 0.00306843]\n",
      "Average FNR 0.22508689060218537\n",
      "_______________________________\n",
      "FDR [0.4516129  0.0019802  0.02272727 0.63390663 0.76190476 0.\n",
      " 0.05138379 0.11062907 0.         0.10059492 0.28571429 0.07106124\n",
      " 0.         0.02138554]\n",
      "Average FDR 0.17949290113896924\n",
      "_______________________________\n",
      "ACC [0.99895349 0.99372096 0.99765582 0.98823726 0.99840931 0.99761396\n",
      " 0.9533258  0.99681862 0.99933024 0.98869773 0.99991628 0.95860019\n",
      " 0.99991628 0.99660932]\n",
      "Average ACC 0.9905575190015729\n",
      "_______________________________\n",
      "F1 [0.57627119 0.93074792 0.88477366 0.51468048 0.20833333 0.55813953\n",
      " 0.94491379 0.91517857 0.68       0.92491657 0.83333333 0.92339865\n",
      " 0.92307692 0.9876881 ]\n",
      "Average F1 0.7718180046214836\n",
      "_______________________________\n",
      "[1.04650676e-03 6.27904056e-03 2.34417514e-03 1.17627360e-02\n",
      " 1.59069028e-03 2.38603541e-03 4.66742015e-02 3.18138055e-03\n",
      " 6.69764327e-04 1.13022730e-02 8.37205408e-05 4.13998074e-02\n",
      " 8.37205408e-05 3.39068190e-03]\n"
     ]
    }
   ],
   "source": [
    "metrics_overview(df['label'],predictions)"
   ]
  }
 ],
 "metadata": {
  "kernelspec": {
   "display_name": "Python 3 (ipykernel)",
   "language": "python",
   "name": "python3"
  },
  "language_info": {
   "codemirror_mode": {
    "name": "ipython",
    "version": 3
   },
   "file_extension": ".py",
   "mimetype": "text/x-python",
   "name": "python",
   "nbconvert_exporter": "python",
   "pygments_lexer": "ipython3",
   "version": "3.10.6"
  },
  "toc": {
   "base_numbering": 1,
   "nav_menu": {},
   "number_sections": true,
   "sideBar": true,
   "skip_h1_title": false,
   "title_cell": "Table of Contents",
   "title_sidebar": "Contents",
   "toc_cell": false,
   "toc_position": {},
   "toc_section_display": true,
   "toc_window_display": false
  },
  "varInspector": {
   "cols": {
    "lenName": 16,
    "lenType": 16,
    "lenVar": 40
   },
   "kernels_config": {
    "python": {
     "delete_cmd_postfix": "",
     "delete_cmd_prefix": "del ",
     "library": "var_list.py",
     "varRefreshCmd": "print(var_dic_list())"
    },
    "r": {
     "delete_cmd_postfix": ") ",
     "delete_cmd_prefix": "rm(",
     "library": "var_list.r",
     "varRefreshCmd": "cat(var_dic_list()) "
    }
   },
   "types_to_exclude": [
    "module",
    "function",
    "builtin_function_or_method",
    "instance",
    "_Feature"
   ],
   "window_display": false
  }
 },
 "nbformat": 4,
 "nbformat_minor": 2
}
