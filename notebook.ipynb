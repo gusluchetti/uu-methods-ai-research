{
 "cells": [
  {
   "cell_type": "code",
   "execution_count": 1,
   "metadata": {
    "id": "C_yMj5R2u4y-"
   },
   "outputs": [],
   "source": [
    "import pandas as pd\n",
    "import numpy as np"
   ]
  },
  {
   "cell_type": "code",
   "execution_count": 2,
   "metadata": {
    "id": "Cdc9E2uUvC-y"
   },
   "outputs": [],
   "source": [
    "with open('dialog_acts.dat', 'r') as f:\n",
    "    data = f.readlines()\n",
    "    data = list(map(lambda x: [x[0:x.index(\" \")], x[x.index(\" \")+1:-1]], data))"
   ]
  },
  {
   "cell_type": "code",
   "execution_count": 3,
   "metadata": {
    "id": "4QTPp5ZmvIMt"
   },
   "outputs": [],
   "source": [
    "df = pd.DataFrame(np.array(data), columns = ['label', 'text'])"
   ]
  },
  {
   "cell_type": "markdown",
   "metadata": {
    "id": "FN-u_prTzMz3"
   },
   "source": [
    "# Pre-Processing"
   ]
  },
  {
   "cell_type": "code",
   "execution_count": 4,
   "metadata": {
    "colab": {
     "base_uri": "https://localhost:8080/",
     "height": 206
    },
    "id": "M-nLFQpbzT8U",
    "outputId": "8939e206-e293-417d-806e-09d8875ddd87",
    "scrolled": true
   },
   "outputs": [
    {
     "data": {
      "text/plain": [
       "count                  25501\n",
       "unique                  5359\n",
       "top       thank you good bye\n",
       "freq                    2565\n",
       "Name: text, dtype: object"
      ]
     },
     "execution_count": 4,
     "metadata": {},
     "output_type": "execute_result"
    }
   ],
   "source": [
    "df['text'].describe()"
   ]
  },
  {
   "cell_type": "code",
   "execution_count": 5,
   "metadata": {
    "id": "1KHjPymB01fF"
   },
   "outputs": [
    {
     "name": "stdout",
     "output_type": "stream",
     "text": [
      "before removing 'noise': \n",
      "         label                text\n",
      "count    25501               25501\n",
      "unique      15                5359\n",
      "top     inform  thank you good bye\n",
      "freq     10160                2565\n",
      "\n",
      "Current df length is 25501\n",
      "\n",
      "after: \n",
      "         label                text\n",
      "count    25501               25501\n",
      "unique      15                5289\n",
      "top     inform  thank you good bye\n",
      "freq     10160                2569\n"
     ]
    }
   ],
   "source": [
    "# if text contains \"noise\" or \"tv_noise\", remove it\n",
    "# if that makes the column empty, remove the row\n",
    "df_proc = df.copy()\n",
    "print(\"before removing 'noise': \")\n",
    "print(df_proc.describe())\n",
    "\n",
    "for index, row in df_proc.iterrows():\n",
    "    if \"tv_noise\" in row[1]:\n",
    "        row[1] = row[1].replace('tv_noise', '')\n",
    "    elif \"noise\" in row[1]:\n",
    "        row[1] = row[1].replace('noise', '')\n",
    "    \n",
    "    row[1] = row[1].strip()\n",
    "    \n",
    "length = len(df_proc.index)\n",
    "print(f'\\nCurrent df length is {length}')\n",
    "\n",
    "for i in range(length):\n",
    "    text = df['text'][i]\n",
    "    if not text:\n",
    "        df_proc = df.drop([i])\n",
    "        \n",
    "print(\"\\nafter: \")\n",
    "print(df_proc.describe())"
   ]
  },
  {
   "cell_type": "code",
   "execution_count": 6,
   "metadata": {},
   "outputs": [
    {
     "data": {
      "text/plain": [
       "count                  25501\n",
       "unique                  5289\n",
       "top       thank you good bye\n",
       "freq                    2569\n",
       "Name: text, dtype: object"
      ]
     },
     "execution_count": 6,
     "metadata": {},
     "output_type": "execute_result"
    }
   ],
   "source": [
    "df_proc['text'].describe()"
   ]
  },
  {
   "cell_type": "markdown",
   "metadata": {},
   "source": [
    "## First Baseline System - Majority Label"
   ]
  },
  {
   "cell_type": "code",
   "execution_count": 7,
   "metadata": {},
   "outputs": [
    {
     "name": "stdout",
     "output_type": "stream",
     "text": [
      "0    inform\n",
      "Name: label, dtype: object\n"
     ]
    }
   ],
   "source": [
    "majority_label = df_proc['label'].mode()\n",
    "print(majority_label)"
   ]
  }
 ],
 "metadata": {
  "colab": {
   "collapsed_sections": [
    "FN-u_prTzMz3"
   ],
   "provenance": []
  },
  "kernelspec": {
   "display_name": "Python 3 (ipykernel)",
   "language": "python",
   "name": "python3"
  },
  "language_info": {
   "codemirror_mode": {
    "name": "ipython",
    "version": 3
   },
   "file_extension": ".py",
   "mimetype": "text/x-python",
   "name": "python",
   "nbconvert_exporter": "python",
   "pygments_lexer": "ipython3",
   "version": "3.10.6"
  }
 },
 "nbformat": 4,
 "nbformat_minor": 1
}
