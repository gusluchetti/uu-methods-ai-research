{
 "cells": [
  {
   "cell_type": "markdown",
   "metadata": {
    "id": "YVI5G5sgy-kQ"
   },
   "source": [
    "# bot"
   ]
  },
  {
   "cell_type": "markdown",
   "metadata": {},
   "source": [
    "## Your code should offer a prompt to enter a new utterance and classify this utterance, and repeat the prompt until the user exits."
   ]
  },
  {
   "cell_type": "code",
   "execution_count": 64,
   "metadata": {
    "id": "uwgQKCVXvXKd"
   },
   "outputs": [],
   "source": [
    "def classify_utterance_1(ut):\n",
    "  classified_label = \"inform\"\n",
    "  return classified_label\n",
    "\n",
    "def classify_utterance_2(ut):\n",
    "  if 'bye' in ut:\n",
    "    classified_label = 'bye'\n",
    "  elif 'no' in ut:\n",
    "    classified_label = 'negate'\n",
    "  elif 'start over' in ut:\n",
    "    classified_label = 'restart'\n",
    "  else:\n",
    "    classified_label = 'null'\n",
    "\n",
    "  return classified_label\n",
    "\n",
    "def classify_utterance_3(ut):\n",
    "  #classified_label = ml_lassifier_model.predict(ut)[0]\n",
    "  classified_label_id = model.predict(tfidf.transform([ut]).toarray())[0]\n",
    "  classified_label = label_dict.loc[classified_label_id][0]\n",
    "  return classified_label\n",
    "\n",
    "def bot():\n",
    "  finished = False\n",
    "  print(f'Hi! To exit enter \"bye123\"')\n",
    "  while not finished:\n",
    "    utterance = input('>').lower()\n",
    "    label = classify_utterance_3(utterance)\n",
    "    print(f'label:{label}\\nutterance:{utterance}')  \n",
    "    if 'bye123' in utterance:\n",
    "      finished = True"
   ]
  }
 ],
 "metadata": {
  "colab": {
   "collapsed_sections": [
    "FN-u_prTzMz3"
   ],
   "provenance": []
  },
  "kernelspec": {
   "display_name": "Python 3 (ipykernel)",
   "language": "python",
   "name": "python3"
  },
  "language_info": {
   "codemirror_mode": {
    "name": "ipython",
    "version": 3
   },
   "file_extension": ".py",
   "mimetype": "text/x-python",
   "name": "python",
   "nbconvert_exporter": "python",
   "pygments_lexer": "ipython3",
   "version": "3.10.6"
  }
 },
 "nbformat": 4,
 "nbformat_minor": 1
}
